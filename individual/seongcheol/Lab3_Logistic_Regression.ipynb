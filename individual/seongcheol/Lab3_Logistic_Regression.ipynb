{
 "cells": [
  {
   "cell_type": "code",
   "execution_count": 1,
   "metadata": {
    "collapsed": true
   },
   "outputs": [],
   "source": [
    "import numpy as np\n",
    "import tensorflow as tf\n",
    "from sklearn import linear_model, datasets\n",
    "from sklearn.preprocessing import normalize\n",
    "import urllib.request as url"
   ]
  },
  {
   "cell_type": "code",
   "execution_count": 2,
   "metadata": {
    "collapsed": false
   },
   "outputs": [],
   "source": [
    "#https://archive.ics.uci.edu/ml/machine-learning-databases/pima-indians-diabetes/pima-indians-diabetes.names\n",
    "\n",
    "data_source = \"https://goo.gl/vhm1eU\"\n",
    "\n",
    "data = url.urlopen(data_source)"
   ]
  },
  {
   "cell_type": "code",
   "execution_count": 3,
   "metadata": {
    "collapsed": false
   },
   "outputs": [],
   "source": [
    "raw_data = np.loadtxt(data, unpack=False, dtype='float32', delimiter=',')\n",
    "\n",
    "x_data = raw_data[:, :-1]\n",
    "x_data = normalize(x_data, axis = 0)\n",
    "x_data = np.insert(x_data, 0, 1, axis = 1)\n",
    "x_data = x_data.T\n",
    "\n",
    "y_data = raw_data[:, -1]\n",
    "\n",
    "W = tf.Variable(tf.random_uniform([1, 9], -1.0, 1.0))"
   ]
  },
  {
   "cell_type": "code",
   "execution_count": 4,
   "metadata": {
    "collapsed": false
   },
   "outputs": [
    {
     "name": "stdout",
     "output_type": "stream",
     "text": [
      "0 0.643877\n",
      "50000 0.587031\n",
      "100000 0.563862\n",
      "150000 0.54969\n",
      "200000 0.539168\n",
      "250000 0.530673\n",
      "300000 0.523564\n",
      "350000 0.517511\n",
      "400000 0.512299\n",
      "450000 0.507782\n",
      "500000 0.503858\n"
     ]
    }
   ],
   "source": [
    "h = tf.matmul(W, x_data)\n",
    "hypothesis = tf.div(1., 1. + tf.exp(-h))\n",
    "cost = -1 * tf.reduce_mean(y_data* tf.log(hypothesis) + (1-y_data) * tf.log(1-hypothesis))\n",
    "\n",
    "a = tf.Variable(0.1)\n",
    "optimizer = tf.train.GradientDescentOptimizer(a)\n",
    "train = optimizer.minimize(cost)\n",
    "\n",
    "init = tf.initialize_all_variables()\n",
    "\n",
    "sess = tf.Session()\n",
    "sess.run(init)\n",
    "\n",
    "for i in range(500001):\n",
    "    sess.run(train)\n",
    "    if i % 50000 == 0:\n",
    "        print (i, sess.run(cost))"
   ]
  },
  {
   "cell_type": "code",
   "execution_count": 5,
   "metadata": {
    "collapsed": false
   },
   "outputs": [
    {
     "data": {
      "text/plain": [
       "array([ 0.75651042])"
      ]
     },
     "execution_count": 5,
     "metadata": {},
     "output_type": "execute_result"
    }
   ],
   "source": [
    "def sigmoid(z):\n",
    "    return 1 / (1 + np.exp(z))\n",
    "\n",
    "theta = sess.run(W)\n",
    "y_data = y_data.reshape(y_data.shape[0], 1)\n",
    "\n",
    "sum((sigmoid(-x_data.T.dot(theta.T)) > 0.5) == y_data) / y_data.shape[0]"
   ]
  }
 ],
 "metadata": {
  "kernelspec": {
   "display_name": "Python 3",
   "language": "python",
   "name": "python3"
  },
  "language_info": {
   "codemirror_mode": {
    "name": "ipython",
    "version": 3
   },
   "file_extension": ".py",
   "mimetype": "text/x-python",
   "name": "python",
   "nbconvert_exporter": "python",
   "pygments_lexer": "ipython3",
   "version": "3.4.5"
  }
 },
 "nbformat": 4,
 "nbformat_minor": 0
}
